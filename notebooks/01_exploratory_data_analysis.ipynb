{
 "cells": [
  {
   "cell_type": "markdown",
   "metadata": {},
   "source": [
    "# Fitness Data Analysis - Exploratory Data Analysis\n",
    "\n",
    "This notebook explores the Workout & Fitness Tracker dataset to understand its structure, feature distributions, and relationships between variables."
   ]
  },
  {
   "cell_type": "code",
   "execution_count": null,
   "metadata": {},
   "source": [
    "# Import necessary libraries\n",
    "import pandas as pd\n",
    "import numpy as np\n",
    "import matplotlib.pyplot as plt\n",
    "import seaborn as sns\n",
    "import sys\n",
    "import os\n",
    "\n",
    "# Add parent directory to path for imports\n",
    "sys.path.append(os.path.abspath('..'))\n",
    "\n",
    "# Import custom modules\n",
    "from src.data_loader import load_fitness_data\n",
    "from src.preprocessing import identify_column_types, handle_missing_values\n",
    "from src.visualization import (\n",
    "    plot_correlation_matrix,\n",
    "    plot_categorical_distribution,\n",
    "    plot_numeric_features_distribution,\n",
    "    plot_target_vs_feature\n",
    ")\n",
    "\n",
    "# Set plot style\n",
    "sns.set(style=\"whitegrid\")\n",
    "plt.rcParams['figure.figsize'] = (12, 8)\n",
    "\n",
    "# Display all DataFrame columns\n",
    "pd.set_option('display.max_columns', None)"
   ]
  },
  {
   "cell_type": "markdown",
   "metadata": {},
   "source": [
    "## Loading and Exploring the Dataset"
   ]
  },
  {
   "cell_type": "code",
   "execution_count": null,
   "metadata": {},
   "source": [
    "# Load the dataset\n",
    "data = load_fitness_data()\n",
    "\n",
    "# Display basic information about the dataset\n",
    "print(\"Dataset shape:\", data.shape)\n",
    "data.head()"
   ]
  },
  {
   "cell_type": "code",
   "execution_count": null,
   "metadata": {},
   "source": [
    "# Summary statistics for numeric columns\n",
    "data.describe()"
   ]
  },
  {
   "cell_type": "code",
   "execution_count": null,
   "metadata": {},
   "source": [
    "# Information about data types and missing values\n",
    "data.info()"
   ]
  },
  {
   "cell_type": "markdown",
   "metadata": {},
   "source": [
    "## Data Preprocessing"
   ]
  },
  {
   "cell_type": "code",
   "execution_count": null,
   "metadata": {},
   "source": [
    "# Identify column types\n",
    "numeric_cols, categorical_cols = identify_column_types(data)\n",
    "\n",
    "print(\"\\nNumeric columns:\")\n",
    "print(numeric_cols)\n",
    "\n",
    "print(\"\\nCategorical columns:\")\n",
    "print(categorical_cols)"
   ]
  },
  {
   "cell_type": "code",
   "execution_count": null,
   "metadata": {},
   "source": [
    "# Check for missing values\n",
    "missing_data = data.isnull().sum()\n",
    "missing_data = missing_data[missing_data > 0]\n",
    "if len(missing_data) > 0:\n",
    "    print(\"Columns with missing values:\")\n",
    "    print(missing_data)\n",
    "else:\n",
    "    print(\"No missing values found in the dataset.\")"
   ]
  },
  {
   "cell_type": "code",
   "execution_count": null,
   "metadata": {},
   "source": [
    "# Handle any missing values\n",
    "data_clean = handle_missing_values(data)"
   ]
  },
  {
   "cell_type": "markdown",
   "metadata": {},
   "source": [
    "## Distribution of Key Features"
   ]
  },
  {
   "cell_type": "code",
   "execution_count": null,
   "metadata": {},
   "source": [
    "# Plot distribution of numeric features\n",
    "fig = plot_numeric_features_distribution(data_clean, columns=numeric_cols[:12])\n",
    "plt.tight_layout()"
   ]
  },
  {
   "cell_type": "code",
   "execution_count": null,
   "metadata": {},
   "source": [
    "# Plot distribution of categorical features\n",
    "for col in categorical_cols:\n",
    "    fig = plot_categorical_distribution(data_clean, col)\n",
    "    plt.tight_layout()\n",
    "    plt.show()"
   ]
  },
  {
   "cell_type": "markdown",
   "metadata": {},
   "source": [
    "## Feature Relationships and Correlations"
   ]
  },
  {
   "cell_type": "code",
   "execution_count": null,
   "metadata": {},
   "source": [
    "# Plot correlation matrix\n",
    "fig = plot_correlation_matrix(data_clean, figsize=(14, 12))\n",
    "plt.tight_layout()"
   ]
  },
  {
   "cell_type": "code",
   "execution_count": null,
   "metadata": {},
   "source": [
    "# Create workout efficiency feature (calories burned per minute)\n",
    "data_clean['Workout_Efficiency_Score'] = data_clean['Calories_Burned'] / data_clean['Workout_Duration']\n",
    "\n",
    "# Plot histogram of workout efficiency\n",
    "plt.figure(figsize=(10, 6))\n",
    "sns.histplot(data_clean['Workout_Efficiency_Score'], kde=True)\n",
    "plt.title('Distribution of Workout Efficiency (Calories Burned per Minute)')\n",
    "plt.xlabel('Calories Burned per Minute')\n",
    "plt.ylabel('Frequency')\n",
    "plt.show()"
   ]
  },
  {
   "cell_type": "code",
   "execution_count": null,
   "metadata": {},
   "source": [
    "# Create workout efficiency categories (Low, Medium, High)\n",
    "efficiency_thresholds = data_clean['Workout_Efficiency_Score'].quantile([0.33, 0.66])\n",
    "data_clean['Workout_Efficiency'] = pd.cut(\n",
    "    data_clean['Workout_Efficiency_Score'],\n",
    "    bins=[-float('inf'), efficiency_thresholds.iloc[0], efficiency_thresholds.iloc[1], float('inf')],\n",
    "    labels=['Low', 'Medium', 'High']\n",
    ")\n",
    "\n",
    "# Display the distribution of efficiency categories\n",
    "plt.figure(figsize=(8, 6))\n",
    "counts = data_clean['Workout_Efficiency'].value_counts()\n",
    "ax = sns.barplot(x=counts.index, y=counts.values)\n",
    "plt.title('Distribution of Workout Efficiency Categories')\n",
    "plt.xlabel('Efficiency Category')\n",
    "plt.ylabel('Count')\n",
    "\n",
    "# Add count and percentage labels to bars\n",
    "total = len(data_clean)\n",
    "for i, count in enumerate(counts):\n",
    "    pct = 100 * count / total\n",
    "    ax.text(i, count/2, f'{count}\\n({pct:.1f}%)', ha='center', va='center', color='white', fontweight='bold')\n",
    "\n",
    "plt.show()"
   ]
  },
  {
   "cell_type": "markdown",
   "metadata": {},
   "source": [
    "## Exploring Relationships with Key Lifestyle Factors"
   ]
  },
  {
   "cell_type": "code",
   "execution_count": null,
   "metadata": {},
   "source": [
    "# Key lifestyle and health factors\n",
    "key_factors = ['Sleep_Hours', 'Water_Intake', 'Body_Fat_Pct', 'Resting_Heart_Rate', 'Daily_Calories']\n",
    "\n",
    "# Plot relationship between efficiency score and each factor\n",
    "for factor in key_factors:\n",
    "    if factor in data_clean.columns:\n",
    "        fig = plot_target_vs_feature(data_clean, 'Workout_Efficiency_Score', factor)\n",
    "        plt.show()"
   ]
  },
  {
   "cell_type": "code",
   "execution_count": null,
   "metadata": {},
   "source": [
    "# Boxplot of numeric factors by efficiency category\n",
    "plt.figure(figsize=(15, 10))\n",
    "for i, factor in enumerate(key_factors, 1):\n",
    "    if factor in data_clean.columns:\n",
    "        plt.subplot(2, 3, i)\n",
    "        sns.boxplot(x='Workout_Efficiency', y=factor, data=data_clean)\n",
    "        plt.title(f'{factor} by Efficiency Category')\n",
    "        plt.tight_layout()\n",
    "plt.show()"
   ]
  },
  {
   "cell_type": "markdown",
   "metadata": {},
   "source": [
    "## Exploring Demographic Factors"
   ]
  },
  {
   "cell_type": "code",
   "execution_count": null,
   "metadata": {},
   "source": [
    "# Explore efficiency by gender\n",
    "if 'Gender' in data_clean.columns:\n",
    "    plt.figure(figsize=(10, 6))\n",
    "    sns.boxplot(x='Gender', y='Workout_Efficiency_Score', data=data_clean)\n",
    "    plt.title('Workout Efficiency by Gender')\n",
    "    plt.xlabel('Gender')\n",
    "    plt.ylabel('Calories Burned per Minute')\n",
    "    plt.show()"
   ]
  },
  {
   "cell_type": "code",
   "execution_count": null,
   "metadata": {},
   "source": [
    "# Explore efficiency by age\n",
    "if 'Age' in data_clean.columns:\n",
    "    # Create age groups\n",
    "    data_clean['Age_Group'] = pd.cut(\n",
    "        data_clean['Age'],\n",
    "        bins=[0, 20, 30, 40, 50, 60, 100],\n",
    "        labels=['<20', '20-29', '30-39', '40-49', '50-59', '60+'])\n",
    "    \n",
    "    plt.figure(figsize=(12, 6))\n",
    "    sns.boxplot(x='Age_Group', y='Workout_Efficiency_Score', data=data_clean)\n",
    "    plt.title('Workout Efficiency by Age Group')\n",
    "    plt.xlabel('Age Group')\n",
    "    plt.ylabel('Calories Burned per Minute')\n",
    "    plt.show()"
   ]
  },
  {
   "cell_type": "markdown",
   "metadata": {},
   "source": [
    "## Exploring Workout Types"
   ]
  },
  {
   "cell_type": "code",
   "execution_count": null,
   "metadata": {},
   "source": [
    "# Explore efficiency by workout type\n",
    "if 'Workout_Type' in data_clean.columns:\n",
    "    # Calculate average efficiency by workout type\n",
    "    workout_efficiency = data_clean.groupby('Workout_Type')['Workout_Efficiency_Score'].mean().sort_values(ascending=False)\n",
    "    \n",
    "    plt.figure(figsize=(14, 6))\n",
    "    ax = sns.barplot(x=workout_efficiency.index, y=workout_efficiency.values)\n",
    "    plt.title('Average Workout Efficiency by Workout Type')\n",
    "    plt.xlabel('Workout Type')\n",
    "    plt.ylabel('Average Calories Burned per Minute')\n",
    "    plt.xticks(rotation=45, ha='right')\n",
    "    \n",
    "    # Add value labels\n",
    "    for i, val in enumerate(workout_efficiency.values):\n",
    "        ax.text(i, val, f'{val:.2f}', ha='center', va='bottom')\n",
    "    \n",
    "    plt.tight_layout()\n",
    "    plt.show()"
   ]
  },
  {
   "cell_type": "markdown",
   "metadata": {},
   "source": [
    "## Analyzing Mood Effects"
   ]
  },
  {
   "cell_type": "code",
   "execution_count": null,
   "metadata": {},
   "source": [
    "# Explore efficiency by mood\n",
    "if 'Mood' in data_clean.columns:\n",
    "    # Calculate average efficiency by mood\n",
    "    mood_efficiency = data_clean.groupby('Mood')['Workout_Efficiency_Score'].mean().sort_values(ascending=False)\n",
    "    \n",
    "    plt.figure(figsize=(12, 6))\n",
    "    ax = sns.barplot(x=mood_efficiency.index, y=mood_efficiency.values)\n",
    "    plt.title('Average Workout Efficiency by Mood')\n",
    "    plt.xlabel('Mood')\n",
    "    plt.ylabel('Average Calories Burned per Minute')\n",
    "    \n",
    "    # Add value labels\n",
    "    for i, val in enumerate(mood_efficiency.values):\n",
    "        ax.text(i, val, f'{val:.2f}', ha='center', va='bottom')\n",
    "    \n",
    "    plt.tight_layout()\n",
    "    plt.show()"
   ]
  },
  {
   "cell_type": "markdown",
   "metadata": {},
   "source": [
    "## Summary of Findings\n",
    "\n",
    "Main observations from the exploratory data analysis:\n",
    "\n",
    "1. The dataset contains a comprehensive set of fitness and lifestyle variables\n",
    "2. Key relationships have been identified between workout efficiency and lifestyle factors\n",
    "3. Demographic factors like age and gender show distinct patterns in workout performance\n",
    "4. Different workout types have varying levels of calorie-burning efficiency\n",
    "5. There appears to be a relationship between mood and workout performance\n",
    "\n",
    "These insights will inform our feature engineering and modeling approaches in subsequent steps."
   ]
  }
 ],
 "metadata": {
  "kernelspec": {
   "display_name": "Python 3",
   "language": "python",
   "name": "python3"
  },
  "language_info": {
   "codemirror_mode": {
    "name": "ipython",
    "version": 3
   },
   "file_extension": ".py",
   "mimetype": "text/x-python",
   "name": "python",
   "nbconvert_exporter": "python",
   "pygments_lexer": "ipython3",
   "version": "3.8.10"
  }
 },
 "nbformat": 4,
 "nbformat_minor": 4
}